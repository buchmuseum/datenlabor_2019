{
 "cells": [
  {
   "cell_type": "markdown",
   "metadata": {},
   "source": [
    "# Scraping von Wikipedia"
   ]
  },
  {
   "cell_type": "markdown",
   "metadata": {},
   "source": [
    "Zunächst müssen die notwendigen Bibliotheken und Module eingebunden werden."
   ]
  },
  {
   "cell_type": "code",
   "execution_count": 1,
   "metadata": {},
   "outputs": [],
   "source": [
    "from urllib.request import urlopen"
   ]
  },
  {
   "cell_type": "markdown",
   "metadata": {},
   "source": [
    "Daraufhin bauen wir uns zunächst eine funktionierende URL zusammen, die auf unsere Startseite verweist. Wir trennen die `base_url` und den Suchbegriff `term`, damit wir später auf die `base_url` wieder zugreifen können."
   ]
  },
  {
   "cell_type": "code",
   "execution_count": 5,
   "metadata": {},
   "outputs": [],
   "source": [
    "base_url = 'https://de.wikipedia.org/wiki/'\n",
    "term = '26._November'\n",
    "search = base_url + term"
   ]
  },
  {
   "cell_type": "code",
   "execution_count": 6,
   "metadata": {},
   "outputs": [
    {
     "data": {
      "text/plain": [
       "'https://de.wikipedia.org/wiki/26._November'"
      ]
     },
     "execution_count": 6,
     "metadata": {},
     "output_type": "execute_result"
    }
   ],
   "source": [
    "search"
   ]
  },
  {
   "cell_type": "markdown",
   "metadata": {},
   "source": [
    "Anschließend rufen wir die Seite namens `search` programmatisch auf und speichern die Antwort des Servers unter der Variable `html` ab."
   ]
  },
  {
   "cell_type": "code",
   "execution_count": 8,
   "metadata": {},
   "outputs": [],
   "source": [
    "html = urlopen(search)"
   ]
  },
  {
   "cell_type": "markdown",
   "metadata": {},
   "source": [
    "Um mit der Serverantwort weiterarbeiten zu können, benötigen wir eine weitere Bibliothek namens `BeautifulSoup`. Mit dieser lassen sich die Serverantworten parsen, das heißt verarbeiten und auswerten."
   ]
  },
  {
   "cell_type": "code",
   "execution_count": 12,
   "metadata": {},
   "outputs": [],
   "source": [
    "from bs4 import BeautifulSoup"
   ]
  },
  {
   "cell_type": "markdown",
   "metadata": {},
   "source": [
    "Wir erstellen ein BeautifulSoup-Objekt mit unserer Serverantwort und einem HTML-Parser."
   ]
  },
  {
   "cell_type": "code",
   "execution_count": 13,
   "metadata": {},
   "outputs": [],
   "source": [
    "soup = BeautifulSoup(html, 'html.parser')"
   ]
  },
  {
   "cell_type": "markdown",
   "metadata": {},
   "source": [
    "Jetzt machen wir uns auf die Suche nach dem Abschnitt, der in Form einer ungeordneten Aufzählung die Links zu den einzelnen Personeneinträgen beinhaltet, die vor dem 19. Jahrhundert am 26. November geboren worden sind.\n",
    "\n",
    "Wir greifen dafür auf unser `soup`-Objekt zu und wenden auf ihm die Methode `find()` an. Der Methode übergeben wir als Argument den Tag, den wir suchen wollen. In unserem Fall `\"span\"`. Unser `span` hat aber eine bestimmte `id` namens `\"Vor_dem_19._Jahrhundert\"`. Von dort springen wir zunächst zum Eltern-Tag und dann weitern zum nächsten Geschwister-Tag. Dabei handelt es sich um unsere ungeordnete Liste `<ul>`. Aus dieser Liste greifen wir mit `find_all(\"li\")` auf alle Listen-Elemente zu. Diese speichern wir in der Variable `section` ab."
   ]
  },
  {
   "cell_type": "code",
   "execution_count": 21,
   "metadata": {},
   "outputs": [],
   "source": [
    "section = soup.find(\"span\", {\"id\": \"Vor_dem_19._Jahrhundert\"}).find_parent().find_next_sibling().find_all(\"li\")"
   ]
  },
  {
   "cell_type": "code",
   "execution_count": 24,
   "metadata": {},
   "outputs": [
    {
     "data": {
      "text/plain": [
       "[<li><span style=\"visibility:hidden;\">0</span><a href=\"/wiki/117\" title=\"117\">117</a>: <a href=\"/wiki/Aelius_Aristides\" title=\"Aelius Aristides\">Aelius Aristides</a>, griechischer Rhetor und Schriftsteller</li>,\n",
       " <li><span style=\"visibility:hidden;\">0</span><a href=\"/wiki/907\" title=\"907\">907</a>: <a href=\"/wiki/Rosendo_de_Celanova\" title=\"Rosendo de Celanova\">Rosendo de Celanova</a>, Bischof von Mondoñedo</li>,\n",
       " <li><a href=\"/wiki/1288\" title=\"1288\">1288</a>: <a href=\"/wiki/Go-Daigo\" title=\"Go-Daigo\">Go-Daigo</a>, 96. Kaiser von Japan</li>,\n",
       " <li><a href=\"/wiki/1350\" title=\"1350\">1350</a>: <a href=\"/wiki/Ibn_al-Dschazar%C4%AB\" title=\"Ibn al-Dschazarī\">Ibn al-Dschazarī</a>, islamischer Rechts- und Korangelehrter</li>,\n",
       " <li><a href=\"/wiki/1462\" title=\"1462\">1462</a>: <a href=\"/wiki/Alexander_(Pfalz-Zweibr%C3%BCcken)\" title=\"Alexander (Pfalz-Zweibrücken)\">Alexander von Pfalz-Zweibrücken</a>, deutscher Adliger, Herzog von Zweibrücken und Veldenz</li>,\n",
       " <li><a href=\"/wiki/1588\" title=\"1588\">1588</a>: <a href=\"/wiki/Anton_von_Ditfurth\" title=\"Anton von Ditfurth\">Anton von Ditfurth</a>, Mitglied der Fruchtbringenden Gesellschaft</li>,\n",
       " <li><a href=\"/wiki/1604\" title=\"1604\">1604</a>: <a href=\"/wiki/Johann_Bach\" title=\"Johann Bach\">Johann Bach</a>, deutscher Musiker, erster Vertreter der Familie Bach</li>,\n",
       " <li><a href=\"/wiki/1607\" title=\"1607\">1607</a>: <a href=\"/wiki/John_Harvard_(Theologe)\" title=\"John Harvard (Theologe)\">John Harvard</a>, englischer Theologe</li>,\n",
       " <li><a href=\"/wiki/1657\" title=\"1657\">1657</a>: <a href=\"/wiki/William_Derham\" title=\"William Derham\">William Derham</a>, englischer Geistlicher und Naturphilosoph</li>,\n",
       " <li><a href=\"/wiki/1662\" title=\"1662\">1662</a>: <a href=\"/wiki/Georg_Albrecht_Hamberger\" title=\"Georg Albrecht Hamberger\">Georg Albrecht Hamberger</a>, deutscher Mathematiker und Physiker</li>,\n",
       " <li><a href=\"/wiki/1678\" title=\"1678\">1678</a>: <a href=\"/wiki/Karl_Leopold_(Mecklenburg)\" title=\"Karl Leopold (Mecklenburg)\">Karl Leopold</a>, Herzog zu Mecklenburg</li>,\n",
       " <li><a href=\"/wiki/1731\" title=\"1731\">1731</a>: <a href=\"/wiki/William_Cowper_(Dichter)\" title=\"William Cowper (Dichter)\">William Cowper</a>, englischer Dichter</li>,\n",
       " <li><a href=\"/wiki/1774\" title=\"1774\">1774</a>: <a href=\"/wiki/Georg_Cancrin\" title=\"Georg Cancrin\">Georg Cancrin</a>, russischer General</li>,\n",
       " <li><a href=\"/wiki/1795\" title=\"1795\">1795</a>: <a href=\"/wiki/Karl_Philipp_Fohr\" title=\"Karl Philipp Fohr\">Karl Philipp Fohr</a>, deutscher Maler</li>,\n",
       " <li><a href=\"/wiki/1800\" title=\"1800\">1800</a>: <a href=\"/wiki/Anton_Martin_Slom%C5%A1ek\" title=\"Anton Martin Slomšek\">Anton Martin Slomšek</a>, slowenischer Geistlicher, Schriftsteller und Dichter</li>]"
      ]
     },
     "execution_count": 24,
     "metadata": {},
     "output_type": "execute_result"
    }
   ],
   "source": [
    "section"
   ]
  },
  {
   "cell_type": "markdown",
   "metadata": {},
   "source": [
    "Bei `section` handelt es sich bei genauerem Hinsehen um eine Liste."
   ]
  },
  {
   "cell_type": "markdown",
   "metadata": {},
   "source": [
    "Als nächstes erstellen wir eine leere Liste namens `links`, in die wir die eigentlichen Links aus den List-Elementen ablegen.\n",
    "\n",
    "Um an den Link zu den Personenseiten zu gelangen, müssen wir zunächst mit `find(\"a\")` den ersten Link in dem Element finden. Anschließend suchen wir das nächste Geschwister-Element und greifen auf das Attribut `\"href\"` in eckigen Klammern zurück."
   ]
  },
  {
   "cell_type": "code",
   "execution_count": 43,
   "metadata": {},
   "outputs": [],
   "source": [
    "links = []\n",
    "for list_item in section:\n",
    "    links.append(list_item.find(\"a\").find_next_sibling()[\"href\"].lstrip(\"/wik\"))"
   ]
  },
  {
   "cell_type": "code",
   "execution_count": 44,
   "metadata": {},
   "outputs": [
    {
     "data": {
      "text/plain": [
       "['Aelius_Aristides',\n",
       " 'Rosendo_de_Celanova',\n",
       " 'Go-Daigo',\n",
       " 'Ibn_al-Dschazar%C4%AB',\n",
       " 'Alexander_(Pfalz-Zweibr%C3%BCcken)',\n",
       " 'Anton_von_Ditfurth',\n",
       " 'Johann_Bach',\n",
       " 'John_Harvard_(Theologe)',\n",
       " 'William_Derham',\n",
       " 'Georg_Albrecht_Hamberger',\n",
       " 'Karl_Leopold_(Mecklenburg)',\n",
       " 'William_Cowper_(Dichter)',\n",
       " 'Georg_Cancrin',\n",
       " 'Karl_Philipp_Fohr',\n",
       " 'Anton_Martin_Slom%C5%A1ek']"
      ]
     },
     "execution_count": 44,
     "metadata": {},
     "output_type": "execute_result"
    }
   ],
   "source": [
    "links"
   ]
  },
  {
   "cell_type": "code",
   "execution_count": 52,
   "metadata": {},
   "outputs": [],
   "source": [
    "from urllib.parse import unquote"
   ]
  },
  {
   "cell_type": "code",
   "execution_count": 53,
   "metadata": {},
   "outputs": [
    {
     "name": "stdout",
     "output_type": "stream",
     "text": [
      "https://de.wikipedia.org/wiki/Aelius_Aristides\n",
      "https://de.wikipedia.org/wiki/Rosendo_de_Celanova\n",
      "https://de.wikipedia.org/wiki/Go-Daigo\n",
      "https://de.wikipedia.org/wiki/Ibn_al-Dschazar%C4%AB\n",
      "https://de.wikipedia.org/wiki/Alexander_(Pfalz-Zweibr%C3%BCcken)\n",
      "https://de.wikipedia.org/wiki/Anton_von_Ditfurth\n",
      "https://de.wikipedia.org/wiki/Johann_Bach\n",
      "https://de.wikipedia.org/wiki/John_Harvard_(Theologe)\n",
      "https://de.wikipedia.org/wiki/William_Derham\n",
      "https://de.wikipedia.org/wiki/Georg_Albrecht_Hamberger\n",
      "https://de.wikipedia.org/wiki/Karl_Leopold_(Mecklenburg)\n",
      "https://de.wikipedia.org/wiki/William_Cowper_(Dichter)\n",
      "https://de.wikipedia.org/wiki/Georg_Cancrin\n",
      "https://de.wikipedia.org/wiki/Karl_Philipp_Fohr\n",
      "https://de.wikipedia.org/wiki/Anton_Martin_Slom%C5%A1ek\n"
     ]
    }
   ],
   "source": [
    "for link in links:\n",
    "    url = base_url + link\n",
    "    print(url)\n",
    "    treffer = urlopen(url)\n",
    "    person = BeautifulSoup(treffer, 'html.parser')\n",
    "    #print(person.get_text())\n",
    "    with open(unquote(link) + '.txt', 'w') as f:\n",
    "        f.write(person.get_text())"
   ]
  },
  {
   "cell_type": "code",
   "execution_count": null,
   "metadata": {},
   "outputs": [],
   "source": []
  }
 ],
 "metadata": {
  "kernelspec": {
   "display_name": "Python 3",
   "language": "python",
   "name": "python3"
  },
  "language_info": {
   "codemirror_mode": {
    "name": "ipython",
    "version": 3
   },
   "file_extension": ".py",
   "mimetype": "text/x-python",
   "name": "python",
   "nbconvert_exporter": "python",
   "pygments_lexer": "ipython3",
   "version": "3.7.3"
  }
 },
 "nbformat": 4,
 "nbformat_minor": 2
}
